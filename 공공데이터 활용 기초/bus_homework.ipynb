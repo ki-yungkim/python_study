{
 "cells": [
  {
   "cell_type": "markdown",
   "id": "1cb53103",
   "metadata": {},
   "source": [
    "# 과제 목록\n",
    "1. 역 이름을 전달하면 그 역의 gpsx, gpsy를 반환하는 함수 \n",
    "2. http://ws.bus.go.kr/api/rest/stationinfo/getStationByPos\n",
    "  -> 위 url에 gpsX, gpsy 파라메터를 전달하면 그 근방의 정거장을 검색해주는 함수"
   ]
  },
  {
   "cell_type": "markdown",
   "id": "8d09ff29",
   "metadata": {},
   "source": [
    "1. 역 이름을 전달하면 그 역의 gpsx, gpsy를 반환하는 함수"
   ]
  },
  {
   "cell_type": "code",
   "execution_count": 6,
   "id": "00304a9d",
   "metadata": {},
   "outputs": [],
   "source": [
    "import requests\n",
    "from bs4 import BeautifulSoup"
   ]
  },
  {
   "cell_type": "code",
   "execution_count": 7,
   "id": "ab3f3386",
   "metadata": {},
   "outputs": [],
   "source": [
    "api_key = '0T%2F98gSX5j9sCWzfQv5sF20Bt3QHxB0k5iKt4tmI2lofZZemulH7eVuvEyF%2FhonmX4t1s%2Fdk3B%2FpmJ%2FmjoK9pA%3D%3D'\n",
    "\n",
    "url = 'http://ws.bus.go.kr/api/rest/' \n",
    "\n",
    "def makeUrl(cmd, params):\n",
    "    u = url\n",
    "    u += cmd\n",
    "    for c in params:\n",
    "        u += c\n",
    "    return u"
   ]
  },
  {
   "cell_type": "code",
   "execution_count": 25,
   "id": "87a2e9ff",
   "metadata": {},
   "outputs": [],
   "source": [
    "def getGPSByStName(st_name):\n",
    "    cmd = 'stationinfo/getStationByName'\n",
    "    params = ['?ServiceKey='+api_key, '&stSrch='+st_name]\n",
    "    u = makeUrl(cmd, params)\n",
    "    html = requests.get(u).text #url에 요청\n",
    "    root = BeautifulSoup(html, 'lxml-xml')\n",
    "    code = root.find('headerCd').get_text()\n",
    "    gps = []\n",
    "    if code=='0':\n",
    "        items = root.find_all('itemList')#배열\n",
    "        for item in items:\n",
    "            stNm = item.find('stNm').get_text()\n",
    "            if st_name == stNm:\n",
    "                x = item.find('tmX').get_text()\n",
    "                y = item.find('tmY').get_text()\n",
    "                gps.append(x)\n",
    "                gps.append(y)\n",
    "    else:\n",
    "        print('error code:', code)\n",
    "        \n",
    "    print(st_name, '정류소의 좌표(x, y) : ', gps[0], ',', gps[1])"
   ]
  },
  {
   "cell_type": "code",
   "execution_count": 30,
   "id": "78601f00",
   "metadata": {},
   "outputs": [
    {
     "name": "stdout",
     "output_type": "stream",
     "text": [
      "도원삼성래미안아파트단지내 정류소의 좌표(x, y) :  126.9553881353 , 37.5381983039\n"
     ]
    }
   ],
   "source": [
    "getGPSByStName('도원삼성래미안아파트단지내')"
   ]
  },
  {
   "cell_type": "markdown",
   "id": "5bdb1da9",
   "metadata": {},
   "source": [
    "2. http://ws.bus.go.kr/api/rest/stationinfo/getStationByPos\n",
    "  -> 위 url에 gpsX, gpsy 파라메터를 전달하면 그 근방의 정거장을 검색해주는 함수"
   ]
  },
  {
   "cell_type": "code",
   "execution_count": 44,
   "id": "998f15ff",
   "metadata": {},
   "outputs": [],
   "source": [
    "def getStaionsByPosList(x, y):\n",
    "    cmd = 'stationinfo/getStationByPos'\n",
    "    params = ['?ServiceKey='+api_key, '&tmX='+x, '&tmY='+y, '&radius=200'] # 반경은 일단 고정\n",
    "    u = makeUrl(cmd, params)\n",
    "    html = requests.get(u).text #url에 요청\n",
    "    root = BeautifulSoup(html, 'lxml-xml')\n",
    "    code = root.find('headerCd').get_text()\n",
    "    \n",
    "    stationList = []\n",
    "    \n",
    "    if code=='0':\n",
    "        items = root.find_all('itemList')\n",
    "        for item in items:\n",
    "            stationNm = item.find('stationNm').get_text()\n",
    "            stationList.append(stationNm)\n",
    "    else:\n",
    "        print('error code:', code)\n",
    "    \n",
    "    for i in stationList:\n",
    "        print(i)    "
   ]
  },
  {
   "cell_type": "code",
   "execution_count": 45,
   "id": "7ae552ba",
   "metadata": {},
   "outputs": [
    {
     "name": "stdout",
     "output_type": "stream",
     "text": [
      "도원삼성래미안아파트단지내\n",
      "하나님의교회\n",
      "도원삼성래미안아파트101동앞\n",
      "도원삼성래미안아파트101동앞\n",
      "도화현대1차아파트단지내\n",
      "용산성당.현대홈타운\n",
      "도원삼성래미안아파트\n",
      "도원삼성래미안아파트\n",
      "도원삼성래미안아파트\n"
     ]
    }
   ],
   "source": [
    "getStaionsByPosList('126.9553881353 ', '37.5381983039')"
   ]
  }
 ],
 "metadata": {
  "kernelspec": {
   "display_name": "Python 3 (ipykernel)",
   "language": "python",
   "name": "python3"
  },
  "language_info": {
   "codemirror_mode": {
    "name": "ipython",
    "version": 3
   },
   "file_extension": ".py",
   "mimetype": "text/x-python",
   "name": "python",
   "nbconvert_exporter": "python",
   "pygments_lexer": "ipython3",
   "version": "3.9.5"
  }
 },
 "nbformat": 4,
 "nbformat_minor": 5
}
