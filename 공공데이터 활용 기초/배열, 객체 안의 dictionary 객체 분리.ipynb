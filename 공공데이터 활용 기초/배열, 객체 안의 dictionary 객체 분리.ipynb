{
 "cells": [
  {
   "cell_type": "code",
   "execution_count": 1,
   "id": "93012901",
   "metadata": {},
   "outputs": [
    {
     "name": "stdout",
     "output_type": "stream",
     "text": [
      "name : (재)세종테크노파크_자율주행차량운행정보\n",
      "description : 세종시 자율 주행 빅데이터 관제 센터에서 매일 생산되는 자율주행차량에 관련된 운행 정보를 자체 사이트를 통해 제공합니다.\n",
      "url : https://www.data.go.kr/data/15085082/fileData.do\n",
      "배열\n",
      "keywords:자율주행,오픈랩,V2X, \n",
      "license : https://data.go.kr/ugs/selectPortalPolicyView.do\n",
      "객체\n",
      "name : (재)세종테크노파크\n",
      "\n",
      "객체 안의 객체\n",
      "contactType : 미래융합산업센터 미래차산업팀\n",
      "telephone : +82-0448502198\n",
      "@type : ContactPoint\n",
      "@type : Organization\n",
      "배열\n",
      "distribution:\n",
      "배열 안의 객체\n",
      "encodingFormat : JSON\n",
      "contentUrl : http://adbc.sjtp.or.kr/adbc/hpp/publicData/publicDataOpnList.do\n",
      "@type : DataDownload\n",
      "\n",
      "@context : https://schema.org\n",
      "@type : Dataset\n"
     ]
    }
   ],
   "source": [
    "# 숙제 : 배열, 객체 안의 dictionary 객체 분리\n",
    "import requests\n",
    "import json\n",
    "json_page = requests.get('https://www.data.go.kr/catalog/15085082/fileData.json').text\n",
    "json_page\n",
    "obj = json.loads(json_page)\n",
    "for key in obj.keys():\n",
    "    val = obj[key]\n",
    "    if isinstance(val, list):\n",
    "        print('배열')\n",
    "        print(key, end=':')\n",
    "        for v in val:\n",
    "            if isinstance(v, dict):\n",
    "                print()\n",
    "                print('배열 안의 객체')\n",
    "                for k in v.keys():\n",
    "                    print(k, ':', v[k])\n",
    "            else:\n",
    "                print(v, end=', ')\n",
    "        print()\n",
    "        \n",
    "    elif isinstance(val, dict):\n",
    "        print('객체')\n",
    "        for k in val.keys():\n",
    "            if isinstance(val[k], dict):\n",
    "                print()\n",
    "                print('객체 안의 객체')\n",
    "                d = val[k]\n",
    "                for i in d.keys():\n",
    "                    print(i, ':', d[i])\n",
    "            else:\n",
    "                print(k, ':', val[k])\n",
    "    else:\n",
    "        print(key, ':', val)\n",
    "            "
   ]
  }
 ],
 "metadata": {
  "kernelspec": {
   "display_name": "Python 3 (ipykernel)",
   "language": "python",
   "name": "python3"
  },
  "language_info": {
   "codemirror_mode": {
    "name": "ipython",
    "version": 3
   },
   "file_extension": ".py",
   "mimetype": "text/x-python",
   "name": "python",
   "nbconvert_exporter": "python",
   "pygments_lexer": "ipython3",
   "version": "3.9.5"
  }
 },
 "nbformat": 4,
 "nbformat_minor": 5
}
